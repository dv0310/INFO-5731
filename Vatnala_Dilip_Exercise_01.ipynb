{
  "cells": [
    {
      "cell_type": "markdown",
      "metadata": {
        "id": "view-in-github"
      },
      "source": [
        "<a href=\"https://colab.research.google.com/github/unt-iialab/INFO5731_Spring2020/blob/master/In_class_exercise/In_class_exercise_01.ipynb\" target=\"_parent\"><img src=\"https://colab.research.google.com/assets/colab-badge.svg\" alt=\"Open In Colab\"/></a>"
      ]
    },
    {
      "cell_type": "markdown",
      "metadata": {
        "id": "DymRJbxDBCnf"
      },
      "source": [
        "# **The first In-class-exercise (08/30/2023, 40 points in total)**\n",
        "This exercise is due tomorrow 08/31/203 11:59 PM.\n"
      ]
    },
    {
      "cell_type": "markdown",
      "source": [
        "(1) Write a Python program to calculate the area of a rectangle using user-input length and width."
      ],
      "metadata": {
        "id": "FBKvD6O_TY6e"
      }
    },
    {
      "cell_type": "code",
      "source": [
        "# write your answer here\n",
        "# Enter input for length and width\n",
        "length = float(input(\"Enter the length of the rectangle: \"))\n",
        "width = float(input(\"Enter the width of the rectangle: \"))\n",
        "# Calculate the area\n",
        "area = length * width\n",
        "# Display the result\n",
        "print(f\"The area of the rectangle is: {area}\")\n"
      ],
      "metadata": {
        "id": "cikVKDXdTbzE",
        "colab": {
          "base_uri": "https://localhost:8080/"
        },
        "outputId": "7efa61d4-a604-4152-b086-36aedc16c8f3"
      },
      "execution_count": 2,
      "outputs": [
        {
          "output_type": "stream",
          "name": "stdout",
          "text": [
            "Enter the length of the rectangle: 10.50\n",
            "Enter the width of the rectangle: 9.50\n",
            "The area of the rectangle is: 99.75\n"
          ]
        }
      ]
    },
    {
      "cell_type": "markdown",
      "source": [
        "(2) Create a program that takes two numbers from the user and swaps their values without using a temporary variable."
      ],
      "metadata": {
        "id": "E9RqrlwdTfvl"
      }
    },
    {
      "cell_type": "code",
      "source": [
        "# write your answer here\n",
        "# Input two numbers from the user\n",
        "num1 = float(input(\"Enter the first number: \"))\n",
        "num2 = float(input(\"Enter the second number: \"))\n",
        "\n",
        "# Swapping the values without using a temporary variable\n",
        "num1 = num1 + num2\n",
        "num2 = num1 - num2\n",
        "num1 = num1 - num2\n",
        "\n",
        "# Print the swapped values\n",
        "print(\"After swapping:\")\n",
        "print(\"First number:\", num1)\n",
        "print(\"Second number:\", num2)\n"
      ],
      "metadata": {
        "id": "4XvRknixTh1g",
        "colab": {
          "base_uri": "https://localhost:8080/"
        },
        "outputId": "ccb29f2f-159f-492a-dbed-e6ba10684ead"
      },
      "execution_count": 3,
      "outputs": [
        {
          "output_type": "stream",
          "name": "stdout",
          "text": [
            "Enter the first number: 2\n",
            "Enter the second number: 3\n",
            "After swapping:\n",
            "First number: 3.0\n",
            "Second number: 2.0\n"
          ]
        }
      ]
    },
    {
      "cell_type": "markdown",
      "metadata": {
        "id": "03jb4GZsBkBS"
      },
      "source": [
        "(3) Write a Python program to calculate the length of a string."
      ]
    },
    {
      "cell_type": "code",
      "execution_count": 5,
      "metadata": {
        "id": "YaGLbSHHB8Ej",
        "colab": {
          "base_uri": "https://localhost:8080/"
        },
        "outputId": "daefe84d-a3aa-4993-a95d-78a2afb3afea"
      },
      "outputs": [
        {
          "output_type": "stream",
          "name": "stdout",
          "text": [
            "Enter a string: Dilip\n",
            "Length of the string: 5\n"
          ]
        }
      ],
      "source": [
        "# write your answer here\n",
        "# Input a string from the user\n",
        "input_string = input(\"Enter a string: \")\n",
        "\n",
        "# Calculate and print the length of the string\n",
        "string_length = len(input_string)\n",
        "print(\"Length of the string:\", string_length)\n",
        "\n"
      ]
    },
    {
      "cell_type": "markdown",
      "metadata": {
        "id": "jJDe71iLB616"
      },
      "source": [
        "(4) Write a Python program to count the number of characters in a string.\n",
        "\n",
        "Sample String : 'google.com‘,\n",
        "\n",
        "Expected Result : {'o': 3, 'g': 2, '.': 1, 'e': 1, 'l': 1, 'm': 1, 'c': 1}"
      ]
    },
    {
      "cell_type": "code",
      "execution_count": 7,
      "metadata": {
        "id": "MtKskTzbCLaU",
        "colab": {
          "base_uri": "https://localhost:8080/"
        },
        "outputId": "dbcba4ee-b2e1-4ec7-d291-4579d6c834eb"
      },
      "outputs": [
        {
          "output_type": "stream",
          "name": "stdout",
          "text": [
            "Enter a string: google.com\n",
            "Character count: {'g': 2, 'o': 3, 'l': 1, 'e': 1, '.': 1, 'c': 1, 'm': 1}\n"
          ]
        }
      ],
      "source": [
        "# write your answer here\n",
        "# Input a string from the user\n",
        "input_string = input(\"Enter a string: \")\n",
        "\n",
        "# Initialize an empty dictionary to store character counts\n",
        "char_count = {}\n",
        "\n",
        "# Count the characters in the string\n",
        "for char in input_string:\n",
        "    if char in char_count:\n",
        "        char_count[char] += 1\n",
        "    else:\n",
        "        char_count[char] = 1\n",
        "\n",
        "# Print the character count dictionary\n",
        "print(\"Character count:\", char_count)\n"
      ]
    },
    {
      "cell_type": "markdown",
      "metadata": {
        "id": "55W9AMdXCSpV"
      },
      "source": [
        "(5) Write a Python program to sum all the items in a list."
      ]
    },
    {
      "cell_type": "code",
      "execution_count": 9,
      "metadata": {
        "id": "I57NXsauCec2",
        "colab": {
          "base_uri": "https://localhost:8080/"
        },
        "outputId": "4eea9b1a-735f-45a8-bf1f-f49528e5329c"
      },
      "outputs": [
        {
          "output_type": "stream",
          "name": "stdout",
          "text": [
            "Sum of list items: 15\n"
          ]
        }
      ],
      "source": [
        "# write your answer here\n",
        "def sum_of_list_items(lst):\n",
        "    total = 0\n",
        "    for item in lst:\n",
        "        total += item\n",
        "    return total\n",
        "\n",
        "# Example list\n",
        "numbers = [1, 2, 3, 4, 5]\n",
        "result = sum_of_list_items(numbers)\n",
        "print(\"Sum of list items:\", result)\n"
      ]
    },
    {
      "cell_type": "markdown",
      "metadata": {
        "id": "4ulBZ6yhCi9F"
      },
      "source": [
        "(6) Write a Python program to get a string from a given string where all occurrences of its first char have been changed to '\\$', except the first char itself.\n",
        "\n",
        "Sample String : 'restart‘,\n",
        "\n",
        "Expected Result : 'resta\\$t'"
      ]
    },
    {
      "cell_type": "code",
      "execution_count": 10,
      "metadata": {
        "id": "Fj0XhwbBCw2o",
        "colab": {
          "base_uri": "https://localhost:8080/"
        },
        "outputId": "f20dcd29-5060-45a3-8b45-154914e94e92"
      },
      "outputs": [
        {
          "output_type": "stream",
          "name": "stdout",
          "text": [
            "Modified string: resta$t\n"
          ]
        }
      ],
      "source": [
        "# write your answer here\n",
        "def modify_string(input_str):\n",
        "    first_char = input_str[0]\n",
        "    modified_str = first_char + input_str[1:].replace(first_char, '$')\n",
        "    return modified_str\n",
        "\n",
        "# Example string\n",
        "sample_string = 'restart'\n",
        "result = modify_string(sample_string)\n",
        "print(\"Modified string:\", result)\n"
      ]
    },
    {
      "cell_type": "markdown",
      "source": [
        "(7) Create a program that calculates the factorial of a number using a while loop."
      ],
      "metadata": {
        "id": "qVXA3q7ET5JI"
      }
    },
    {
      "cell_type": "code",
      "source": [
        "# write your answer here\n",
        "def factorial(n):\n",
        "    if n < 0:\n",
        "        return \"Factorial is not defined for negative numbers\"\n",
        "    elif n == 0 or n == 1:\n",
        "        return 1\n",
        "    else:\n",
        "        result = 1\n",
        "        while n > 1:\n",
        "            result *= n\n",
        "            n -= 1\n",
        "        return result\n",
        "\n",
        "#  Enter the input\n",
        "num = int(input(\"Enter a number: \"))\n",
        "factorial_result = factorial(num)\n",
        "\n",
        "print(\"Factorial of\", num, \"is:\", factorial_result)\n"
      ],
      "metadata": {
        "id": "Lbt7R6UkT7BA",
        "colab": {
          "base_uri": "https://localhost:8080/"
        },
        "outputId": "32326f74-0dd4-4366-8518-e9b3f7b19077"
      },
      "execution_count": 11,
      "outputs": [
        {
          "output_type": "stream",
          "name": "stdout",
          "text": [
            "Enter a number: 5\n",
            "Factorial of 5 is: 120\n"
          ]
        }
      ]
    },
    {
      "cell_type": "markdown",
      "source": [
        "(8) Create a program that takes a list of numbers as input and outputs a new list with only the even numbers."
      ],
      "metadata": {
        "id": "6YfbzXMNT--R"
      }
    },
    {
      "cell_type": "code",
      "source": [
        "# write your answer here\n",
        "def filter_even_numbers(input_list):\n",
        "    even_numbers = []\n",
        "    for num in input_list:\n",
        "        if num % 2 == 0:\n",
        "            even_numbers.append(num)\n",
        "    return even_numbers\n",
        "\n",
        "# Get input from the user\n",
        "input_list = [int(x) for x in input(\"Enter a list of numbers separated by spaces: \").split()]\n",
        "even_numbers_list = filter_even_numbers(input_list)\n",
        "\n",
        "print(\"List of even numbers:\", even_numbers_list)\n",
        "\n"
      ],
      "metadata": {
        "id": "54q7wMQPUAKu",
        "colab": {
          "base_uri": "https://localhost:8080/"
        },
        "outputId": "464dc9fd-de5a-4544-fcc6-74bbb572bd4f"
      },
      "execution_count": 13,
      "outputs": [
        {
          "output_type": "stream",
          "name": "stdout",
          "text": [
            "Enter a list of numbers separated by spaces: 10 9 4 17 22 \n",
            "List of even numbers: [10, 4, 22]\n"
          ]
        }
      ]
    },
    {
      "cell_type": "markdown",
      "metadata": {
        "id": "_bIP7s1MCzue"
      },
      "source": [
        "(9) Write a program with python which could accept two parameter a and b to calculate and output the result of S, where\n",
        "\n",
        "$\\ S=3.14*(1+a/b)^3$\n",
        "\n"
      ]
    },
    {
      "cell_type": "code",
      "execution_count": 14,
      "metadata": {
        "id": "w79QilHXD3Mg",
        "colab": {
          "base_uri": "https://localhost:8080/"
        },
        "outputId": "cc279172-b210-4761-92d3-bf5ca5c1a722"
      },
      "outputs": [
        {
          "output_type": "stream",
          "name": "stdout",
          "text": [
            "Enter the value of 'a': 20\n",
            "Enter the value of 'b': 30\n",
            "The result of S is: 14.537037037037033\n"
          ]
        }
      ],
      "source": [
        "# write your answer here\n",
        "def calculate_S(a, b):\n",
        "    S = 3.14 * (1 + a/b)**3\n",
        "    return S\n",
        "\n",
        "# Input from the user\n",
        "a = float(input(\"Enter the value of 'a': \"))\n",
        "b = float(input(\"Enter the value of 'b': \"))\n",
        "\n",
        "result = calculate_S(a, b)\n",
        "print(\"The result of S is:\", result)\n",
        "\n"
      ]
    },
    {
      "cell_type": "markdown",
      "metadata": {
        "id": "xCa2bK9aD4Q3"
      },
      "source": [
        "(10) Write a Python program to concatenate following dictionaries to create a new one.\n",
        "\n",
        "Sample Dictionary : dic1={1:10, 2:20}, dic2={3:30, 4:40}, dic3={5:50,6:60},\n",
        "\n",
        "Expected Result : {1: 10, 2: 20, 3: 30, 4: 40, 5: 50, 6: 60}\n"
      ]
    },
    {
      "cell_type": "code",
      "execution_count": 15,
      "metadata": {
        "id": "_z4aLqAbEET1",
        "colab": {
          "base_uri": "https://localhost:8080/"
        },
        "outputId": "388a417f-5582-41c9-e1ad-4944152ec16a"
      },
      "outputs": [
        {
          "output_type": "stream",
          "name": "stdout",
          "text": [
            "{1: 10, 2: 20, 3: 30, 4: 40, 5: 50, 6: 60}\n"
          ]
        }
      ],
      "source": [
        "# write your answer here\n",
        "# Sample dictionaries\n",
        "dic1 = {1: 10, 2: 20}\n",
        "dic2 = {3: 30, 4: 40}\n",
        "dic3 = {5: 50, 6: 60}\n",
        "\n",
        "# Create a new dictionary by merging the given dictionaries\n",
        "result_dict = {}\n",
        "\n",
        "result_dict.update(dic1)\n",
        "result_dict.update(dic2)\n",
        "result_dict.update(dic3)\n",
        "\n",
        "print(result_dict)\n",
        "\n"
      ]
    },
    {
      "cell_type": "markdown",
      "source": [
        "(11) Write a Python function that accepts a tuple of integers and returns the largest and smallest elements."
      ],
      "metadata": {
        "id": "bkyZ2xSZUOst"
      }
    },
    {
      "cell_type": "code",
      "source": [
        "# write your answer here\n",
        "def find_largest_and_smallest(nums_tuple):\n",
        "    if not nums_tuple:\n",
        "        return None, None  # Return None for both largest and smallest if the input tuple is empty\n",
        "\n",
        "    smallest = largest = nums_tuple[0]  # Initialize smallest and largest with the first element\n",
        "\n",
        "    for num in nums_tuple:\n",
        "        if num < smallest:\n",
        "            smallest = num\n",
        "        if num > largest:\n",
        "            largest = num\n",
        "\n",
        "    return smallest, largest\n",
        "\n",
        "# Example usage\n",
        "nums = (15, 7, 23, 42, 10, 8)\n",
        "smallest, largest = find_largest_and_smallest(nums)\n",
        "print(\"Smallest:\", smallest)\n",
        "print(\"Largest:\", largest)\n"
      ],
      "metadata": {
        "id": "3FdLRBKOUQEd",
        "colab": {
          "base_uri": "https://localhost:8080/"
        },
        "outputId": "fac3957f-886f-4a24-f955-fc70e4eeab4f"
      },
      "execution_count": 16,
      "outputs": [
        {
          "output_type": "stream",
          "name": "stdout",
          "text": [
            "Smallest: 7\n",
            "Largest: 42\n"
          ]
        }
      ]
    },
    {
      "cell_type": "markdown",
      "source": [
        "(12) Write a Python program that counts the frequency of each character in a given string and stores it in a dictionary."
      ],
      "metadata": {
        "id": "O0TVi3gKUTpp"
      }
    },
    {
      "cell_type": "code",
      "source": [
        "# write your answer here\n",
        "def count_character_frequency(input_string):\n",
        "    frequency_dict = {}\n",
        "\n",
        "    for char in input_string:\n",
        "        if char in frequency_dict:\n",
        "            frequency_dict[char] += 1\n",
        "        else:\n",
        "            frequency_dict[char] = 1\n",
        "\n",
        "    return frequency_dict\n",
        "\n",
        "# Example usage\n",
        "input_str = \"hello world\"\n",
        "char_frequency = count_character_frequency(input_str)\n",
        "\n",
        "for char, freq in char_frequency.items():\n",
        "    print(f\"Character: '{char}', Frequency: {freq}\")\n"
      ],
      "metadata": {
        "id": "lAtfSfZXUU-h",
        "colab": {
          "base_uri": "https://localhost:8080/"
        },
        "outputId": "bfa9df9f-9fb7-4eb2-a7cc-9f0e9a3022b9"
      },
      "execution_count": 17,
      "outputs": [
        {
          "output_type": "stream",
          "name": "stdout",
          "text": [
            "Character: 'h', Frequency: 1\n",
            "Character: 'e', Frequency: 1\n",
            "Character: 'l', Frequency: 3\n",
            "Character: 'o', Frequency: 2\n",
            "Character: ' ', Frequency: 1\n",
            "Character: 'w', Frequency: 1\n",
            "Character: 'r', Frequency: 1\n",
            "Character: 'd', Frequency: 1\n"
          ]
        }
      ]
    },
    {
      "cell_type": "markdown",
      "metadata": {
        "id": "0v48Vqa7FrQh"
      },
      "source": [
        "(13) Write a Python program to check whether an element exists within a tuple."
      ]
    },
    {
      "cell_type": "code",
      "execution_count": 18,
      "metadata": {
        "id": "7WEmgq-DF2P1",
        "colab": {
          "base_uri": "https://localhost:8080/"
        },
        "outputId": "26aa84a4-7065-4b2c-dcf6-8a6f4f4eecda"
      },
      "outputs": [
        {
          "output_type": "stream",
          "name": "stdout",
          "text": [
            "3 exists in the tuple.\n"
          ]
        }
      ],
      "source": [
        "# write your answer here\n",
        "def element_exists_in_tuple(element, input_tuple):\n",
        "    return element in input_tuple\n",
        "\n",
        "# Example tuple\n",
        "my_tuple = (1, 2, 3, 4, 5)\n",
        "\n",
        "# Element to search for\n",
        "search_element = 3\n",
        "\n",
        "# Check if the element exists in the tuple\n",
        "if element_exists_in_tuple(search_element, my_tuple):\n",
        "    print(f\"{search_element} exists in the tuple.\")\n",
        "else:\n",
        "    print(f\"{search_element} does not exist in the tuple.\")\n",
        "\n"
      ]
    },
    {
      "cell_type": "markdown",
      "metadata": {
        "id": "vD5PYLMuGga_"
      },
      "source": [
        "(14) Write a Python program to find maximum and the minimum value in a set."
      ]
    },
    {
      "cell_type": "code",
      "execution_count": 19,
      "metadata": {
        "id": "t0D5kdJUGjjw",
        "colab": {
          "base_uri": "https://localhost:8080/"
        },
        "outputId": "ac47016b-0fa0-480a-89c4-b7a4a1898a38"
      },
      "outputs": [
        {
          "output_type": "stream",
          "name": "stdout",
          "text": [
            "Maximum value: 45\n",
            "Minimum value: 6\n"
          ]
        }
      ],
      "source": [
        "# write your answer here\n",
        "def find_max_and_min_value(input_set):\n",
        "    if not input_set:\n",
        "        return None, None\n",
        "    max_value = max(input_set)\n",
        "    min_value = min(input_set)\n",
        "    return max_value, min_value\n",
        "\n",
        "# Example set\n",
        "my_set = {12, 45, 6, 23, 9, 34}\n",
        "\n",
        "# Find the maximum and minimum values in the set\n",
        "max_val, min_val = find_max_and_min_value(my_set)\n",
        "\n",
        "if max_val is not None and min_val is not None:\n",
        "    print(f\"Maximum value: {max_val}\")\n",
        "    print(f\"Minimum value: {min_val}\")\n",
        "else:\n",
        "    print(\"The set is empty.\")\n"
      ]
    },
    {
      "cell_type": "markdown",
      "metadata": {
        "id": "uHkd-y5VhVWC"
      },
      "source": [
        "(15) Write a Python program to randomly divide the students in this class into six groups for term projects, each group should have at least 4 students but no more than 6 students (including 6). Here is the students list:\n",
        "student_list_fall_2023=['sb1826' ,\n",
        " 'lb0582' ,\n",
        " 'ab1820' ,\n",
        " 'sb1883' ,\n",
        " 'mb1296' ,\n",
        " 'sc1622' ,\n",
        " 'tc0469' ,\n",
        " 'ac1770' ,\n",
        " 'mc1453' ,\n",
        " 'ad1187' ,\n",
        " 'sd0926' ,\n",
        " 'sd1268' ,\n",
        " 'ag1609' ,\n",
        " 'sg1638' ,\n",
        " 'mg1299' ,\n",
        " 'vkk0022' ,\n",
        " 'bk0413' ,\n",
        " 'gk0257' ,\n",
        " 'am2807' ,\n",
        " 'gm0558' ,\n",
        " 'pm0658' ,\n",
        " 'am2346' ,\n",
        " 'rm1090' ,\n",
        " 'sm2364' ,\n",
        " 'sm2747' ,\n",
        " 'sm2343' ,\n",
        " 'vm0597' ,\n",
        " 'htn0086' ,\n",
        " 'sp2075' ,\n",
        " 'gp0306' ,\n",
        " 'lp0502' ,\n",
        " 'sr1508' ,\n",
        " 'vr0331' ,\n",
        " 'yr0180' ,\n",
        " 'as2819' ,\n",
        " 'ss2981' ,\n",
        " 'ns0756' ,\n",
        " 'mt0825' ,\n",
        " 'dt0463' ,\n",
        " 'su0137' ,\n",
        " 'dv0310'\n",
        "]"
      ]
    },
    {
      "cell_type": "code",
      "execution_count": 20,
      "metadata": {
        "id": "3iGbmcOBhTwy",
        "colab": {
          "base_uri": "https://localhost:8080/"
        },
        "outputId": "be4f19eb-def5-4ef4-eb85-9c947007f76f"
      },
      "outputs": [
        {
          "output_type": "stream",
          "name": "stdout",
          "text": [
            "Group 1: pm0658, mt0825, sm2364, am2346, dv0310, sd0926, mg1299\n",
            "Group 2: ad1187, sp2075, gk0257, bk0413, lb0582, vkk0022, sd1268\n",
            "Group 3: lp0502, mb1296, ag1609, sm2343, am2807, ns0756, sr1508\n",
            "Group 4: gm0558, ab1820, dt0463, ac1770, as2819, gp0306, yr0180\n",
            "Group 5: ss2981, su0137, sb1883, sb1826, sm2747, vm0597, mc1453\n",
            "Group 6: sg1638, htn0086, tc0469, vr0331, rm1090, sc1622\n"
          ]
        }
      ],
      "source": [
        "# write your answer here\n",
        "import random\n",
        "\n",
        "student_list_fall_2023 = ['sb1826', 'lb0582', 'ab1820', 'sb1883', 'mb1296', 'sc1622', 'tc0469', 'ac1770', 'mc1453', 'ad1187', 'sd0926', 'sd1268', 'ag1609', 'sg1638', 'mg1299', 'vkk0022', 'bk0413', 'gk0257', 'am2807', 'gm0558', 'pm0658', 'am2346', 'rm1090', 'sm2364', 'sm2747', 'sm2343', 'vm0597', 'htn0086', 'sp2075', 'gp0306', 'lp0502', 'sr1508', 'vr0331', 'yr0180', 'as2819', 'ss2981', 'ns0756', 'mt0825', 'dt0463', 'su0137', 'dv0310']\n",
        "\n",
        "# Shuffle the student list\n",
        "random.shuffle(student_list_fall_2023)\n",
        "\n",
        "# Initialize variables\n",
        "num_groups = 6\n",
        "group_size_min = 4\n",
        "group_size_max = 6\n",
        "groups = [[] for _ in range(num_groups)]\n",
        "\n",
        "# Distribute students into groups\n",
        "for student in student_list_fall_2023:\n",
        "    assigned = False\n",
        "    for group in groups:\n",
        "        if group_size_min <= len(group) < group_size_max:\n",
        "            group.append(student)\n",
        "            assigned = True\n",
        "            break\n",
        "    if not assigned:\n",
        "        smallest_group = min(groups, key=len)\n",
        "        smallest_group.append(student)\n",
        "\n",
        "# Print the groups\n",
        "for i, group in enumerate(groups, start=1):\n",
        "    print(f\"Group {i}: {', '.join(group)}\")\n",
        "\n"
      ]
    },
    {
      "cell_type": "markdown",
      "metadata": {
        "id": "fmZ9vX20Qs3d"
      },
      "source": [
        "(16) Write a Python program to find the duplicate elements in a given array of integers. Return -1 If there are no such elements."
      ]
    },
    {
      "cell_type": "code",
      "execution_count": 21,
      "metadata": {
        "id": "W8Jw6sWMQs3d",
        "colab": {
          "base_uri": "https://localhost:8080/"
        },
        "outputId": "fc2f9498-af30-423a-fef1-a6a1c82777ae"
      },
      "outputs": [
        {
          "output_type": "stream",
          "name": "stdout",
          "text": [
            "Duplicate elements: [2, 8]\n"
          ]
        }
      ],
      "source": [
        "# write your answer here\n",
        "def find_duplicate_elements(arr):\n",
        "    seen = {}\n",
        "    duplicates = []\n",
        "\n",
        "    for num in arr:\n",
        "        if num in seen:\n",
        "            seen[num] += 1\n",
        "        else:\n",
        "            seen[num] = 1\n",
        "\n",
        "    for num, count in seen.items():\n",
        "        if count > 1:\n",
        "            duplicates.append(num)\n",
        "\n",
        "    if len(duplicates) == 0:\n",
        "        return -1\n",
        "    else:\n",
        "        return duplicates\n",
        "\n",
        "# Example usage\n",
        "input_array = [1, 2, 3, 4, 5, 2, 6, 7, 8, 8]\n",
        "result = find_duplicate_elements(input_array)\n",
        "\n",
        "if result == -1:\n",
        "    print(\"No duplicate elements.\")\n",
        "else:\n",
        "    print(\"Duplicate elements:\", result)\n",
        "\n"
      ]
    },
    {
      "cell_type": "markdown",
      "metadata": {
        "id": "hvq4APMhQs3d"
      },
      "source": [
        "(17) Write a Python program to select all the Sundays of a specified year."
      ]
    },
    {
      "cell_type": "code",
      "execution_count": 22,
      "metadata": {
        "id": "ZnoxhSglQs3d",
        "colab": {
          "base_uri": "https://localhost:8080/"
        },
        "outputId": "bf75834f-8c57-4eb3-f8dd-5882a548d4ce"
      },
      "outputs": [
        {
          "output_type": "stream",
          "name": "stdout",
          "text": [
            "Enter a year: 2023\n",
            "Sundays in 2023:\n",
            "2023-01-01\n",
            "2023-01-08\n",
            "2023-01-15\n",
            "2023-01-22\n",
            "2023-01-29\n",
            "2023-02-05\n",
            "2023-02-12\n",
            "2023-02-19\n",
            "2023-02-26\n",
            "2023-03-05\n",
            "2023-03-12\n",
            "2023-03-19\n",
            "2023-03-26\n",
            "2023-04-02\n",
            "2023-04-09\n",
            "2023-04-16\n",
            "2023-04-23\n",
            "2023-04-30\n",
            "2023-05-07\n",
            "2023-05-14\n",
            "2023-05-21\n",
            "2023-05-28\n",
            "2023-06-04\n",
            "2023-06-11\n",
            "2023-06-18\n",
            "2023-06-25\n",
            "2023-07-02\n",
            "2023-07-09\n",
            "2023-07-16\n",
            "2023-07-23\n",
            "2023-07-30\n",
            "2023-08-06\n",
            "2023-08-13\n",
            "2023-08-20\n",
            "2023-08-27\n",
            "2023-09-03\n",
            "2023-09-10\n",
            "2023-09-17\n",
            "2023-09-24\n",
            "2023-10-01\n",
            "2023-10-08\n",
            "2023-10-15\n",
            "2023-10-22\n",
            "2023-10-29\n",
            "2023-11-05\n",
            "2023-11-12\n",
            "2023-11-19\n",
            "2023-11-26\n",
            "2023-12-03\n",
            "2023-12-10\n",
            "2023-12-17\n",
            "2023-12-24\n",
            "2023-12-31\n"
          ]
        }
      ],
      "source": [
        "# write your answer here\n",
        "import datetime\n",
        "\n",
        "def find_sundays(year):\n",
        "    sundays = []\n",
        "    date = datetime.date(year, 1, 1)\n",
        "    one_day = datetime.timedelta(days=1)\n",
        "\n",
        "    while date.year == year:\n",
        "        if date.weekday() == 6:  # Sunday has weekday value 6\n",
        "            sundays.append(date)\n",
        "        date += one_day\n",
        "\n",
        "    return sundays\n",
        "\n",
        "year = int(input(\"Enter a year: \"))\n",
        "sundays = find_sundays(year)\n",
        "\n",
        "print(f\"Sundays in {year}:\")\n",
        "for sunday in sundays:\n",
        "    print(sunday.strftime(\"%Y-%m-%d\"))\n",
        "\n"
      ]
    },
    {
      "cell_type": "markdown",
      "source": [
        "(18) Build a program that calculates the factorial of a given positive integer. The factorial of a non-negative integer n is the product of all positive integers less than or equal to n."
      ],
      "metadata": {
        "id": "55FWoSJPVVM6"
      }
    },
    {
      "cell_type": "code",
      "source": [
        "# write your answer here\n",
        "def factorial_recursive(n):\n",
        "    if n == 0 or n == 1:\n",
        "        return 1\n",
        "    else:\n",
        "        return n * factorial_recursive(n - 1)\n",
        "\n",
        "# factorial of number\n",
        "num = 5\n",
        "result = factorial_recursive(num)\n",
        "print(f\"The factorial of {num} is {result}\")\n",
        "\n"
      ],
      "metadata": {
        "id": "hwtr1wZmVX5A",
        "colab": {
          "base_uri": "https://localhost:8080/"
        },
        "outputId": "f8c8ab97-90c5-42de-8d11-0a0823d4de89"
      },
      "execution_count": 24,
      "outputs": [
        {
          "output_type": "stream",
          "name": "stdout",
          "text": [
            "The factorial of 5 is 120\n"
          ]
        }
      ]
    },
    {
      "cell_type": "markdown",
      "source": [
        "(19) Write a program that takes a positive integer n as input and prints the count of even numbers from 1 to n. Use a loop to iterate through the numbers and utilize the break statement to optimize the loop."
      ],
      "metadata": {
        "id": "Q9ecagcaVazW"
      }
    },
    {
      "cell_type": "code",
      "source": [
        "# write your answer here\n",
        "def count_even_numbers(n):\n",
        "    count = 0\n",
        "    for i in range(1, n + 1):\n",
        "        if i % 2 == 0:\n",
        "            count += 1\n",
        "        elif i > n:  # This condition uses the break statement to optimize the loop\n",
        "            break\n",
        "    return count\n",
        "\n",
        "# Get user input\n",
        "try:\n",
        "    num = int(input(\"Enter a positive integer: \"))\n",
        "    if num < 0:\n",
        "        print(\"Please enter a non-negative integer.\")\n",
        "    else:\n",
        "        result = count_even_numbers(num)\n",
        "        print(f\"The count of even numbers from 1 to {num} is {result}\")\n",
        "except ValueError:\n",
        "    print(\"Invalid input. Please enter a valid positive integer.\")\n",
        "\n"
      ],
      "metadata": {
        "id": "gycgckoAVZjR",
        "colab": {
          "base_uri": "https://localhost:8080/"
        },
        "outputId": "86ccb4ab-9571-43e4-df83-895a08d74f81"
      },
      "execution_count": 25,
      "outputs": [
        {
          "output_type": "stream",
          "name": "stdout",
          "text": [
            "Enter a positive integer: 15\n",
            "The count of even numbers from 1 to 15 is 7\n"
          ]
        }
      ]
    },
    {
      "cell_type": "markdown",
      "source": [
        "(20) Write a Python function called count_vowels that takes a string as input and returns the count of vowels (both lowercase and uppercase) present in the string. Consider the vowels to be 'a', 'e', 'i', 'o', and 'u'. Ignore spaces and other non-alphabetic characters."
      ],
      "metadata": {
        "id": "cboAr5pEWUf5"
      }
    },
    {
      "cell_type": "code",
      "source": [
        "# write your answer here\n",
        "def count_vowels(input_string):\n",
        "    vowels = 'aeiouAEIOU'\n",
        "    count = 0\n",
        "\n",
        "    for char in input_string:\n",
        "        if char in vowels:\n",
        "            count += 1\n",
        "\n",
        "    return count\n",
        "#number of vowels\n",
        "input_string = \"Hello World\"\n",
        "result = count_vowels(input_string)\n",
        "print(\"Number of vowels:\", result)\n",
        "\n"
      ],
      "metadata": {
        "id": "phs9gciMWWAW",
        "colab": {
          "base_uri": "https://localhost:8080/"
        },
        "outputId": "2b795ff4-07cb-4d19-f592-17fddb12d0a3"
      },
      "execution_count": 26,
      "outputs": [
        {
          "output_type": "stream",
          "name": "stdout",
          "text": [
            "Number of vowels: 3\n"
          ]
        }
      ]
    }
  ],
  "metadata": {
    "colab": {
      "provenance": []
    },
    "kernelspec": {
      "display_name": "Python 3 (ipykernel)",
      "language": "python",
      "name": "python3"
    },
    "language_info": {
      "codemirror_mode": {
        "name": "ipython",
        "version": 3
      },
      "file_extension": ".py",
      "mimetype": "text/x-python",
      "name": "python",
      "nbconvert_exporter": "python",
      "pygments_lexer": "ipython3",
      "version": "3.9.12"
    }
  },
  "nbformat": 4,
  "nbformat_minor": 0
}